{
 "cells": [
  {
   "cell_type": "code",
   "execution_count": null,
   "id": "891c119a",
   "metadata": {},
   "outputs": [],
   "source": [
    "import numpy as np\n",
    "\n",
    "matrix = np.array([[1, 2], [3, 4]])\n",
    "\n",
    "print(matrix)\n"
   ]
  },
  {
   "cell_type": "code",
   "execution_count": null,
   "id": "d55d3456",
   "metadata": {},
   "outputs": [],
   "source": [
    "a = np.array([1, 2, 3])\n",
    "b = np.array([4, 5, 6])\n",
    "\n",
    "print(a + b)\n",
    "print(a * b)\n"
   ]
  },
  {
   "cell_type": "code",
   "execution_count": null,
   "id": "420c4410",
   "metadata": {},
   "outputs": [],
   "source": [
    "a = np.array([1, 2, 3])\n",
    "b = np.array([4, 5, 6])\n",
    "\n",
    "print(np.sqrt(a))\n",
    "print(np.mean(a))\n",
    "print(np.sum(b))\n"
   ]
  },
  {
   "cell_type": "code",
   "execution_count": null,
   "id": "5b7d0b26",
   "metadata": {},
   "outputs": [],
   "source": [
    "arr = np.array([10, 20, 30, 40, 50])\n",
    "print(arr[1:4])\n",
    "\n",
    "matrix = np.array([[1, 2, 3], [4, 5, 6]])\n",
    "print(matrix[1, 2])\t"
   ]
  },
  {
   "cell_type": "code",
   "execution_count": null,
   "id": "cd151efa",
   "metadata": {},
   "outputs": [],
   "source": [
    "a = np.arange(6)\n",
    "print(f\"Before reshape\\n {a}\\n\")\n",
    "res_a = a.reshape(2, 3)\n",
    "print(f\"After reshape\\n {res_a}\\n\")\n",
    "b = np.array([[1, 2], [3, 4]])\n",
    "\n",
    "print(f\"Before transformation\\n {b}\\n\")\n",
    "tran_b = b.T\n",
    "print(f\"After transformation\\n {tran_b}\\n\")"
   ]
  },
  {
   "cell_type": "code",
   "execution_count": null,
   "id": "420bdbde",
   "metadata": {},
   "outputs": [],
   "source": [
    "arr = np.array([10, 20, 30, 40])\n",
    "mask = arr > 25\n",
    "print(arr[mask])\n"
   ]
  },
  {
   "cell_type": "code",
   "execution_count": null,
   "id": "6839de74",
   "metadata": {},
   "outputs": [],
   "source": [
    "arr = np.array([10, 20, 30, 40])\n",
    "print(arr.shape)\n",
    "print(arr.ndim)\n",
    "print(arr.dtype)\n",
    "print(arr.size)\t"
   ]
  }
 ],
 "metadata": {
  "kernelspec": {
   "display_name": ".venv",
   "language": "python",
   "name": "python3"
  },
  "language_info": {
   "codemirror_mode": {
    "name": "ipython",
    "version": 3
   },
   "file_extension": ".py",
   "mimetype": "text/x-python",
   "name": "python",
   "nbconvert_exporter": "python",
   "pygments_lexer": "ipython3",
   "version": "3.12.10"
  }
 },
 "nbformat": 4,
 "nbformat_minor": 5
}
