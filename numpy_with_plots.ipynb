{
 "cells": [
  {
   "cell_type": "markdown",
   "id": "012b9686",
   "metadata": {},
   "source": [
    "# NumPy Examples with Visualizations"
   ]
  },
  {
   "cell_type": "markdown",
   "id": "59f42803",
   "metadata": {},
   "source": [
    "## Example 1: Random Data and Statistics"
   ]
  },
  {
   "cell_type": "code",
   "execution_count": null,
   "id": "8c094c25",
   "metadata": {},
   "outputs": [],
   "source": [
    "import numpy as np\n",
    "import matplotlib.pyplot as plt\n",
    "\n",
    "# Example 1: Normal distribution\n",
    "data = np.random.normal(loc=50, scale=10, size=1000)\n",
    "\n",
    "mean = np.mean(data)\n",
    "std = np.std(data)\n",
    "\n",
    "print(\"Mean:\", mean)\n",
    "print(\"Standard Deviation:\", std)\n",
    "\n",
    "# Plotting the histogram\n",
    "plt.hist(data, bins=30, edgecolor='black')\n",
    "plt.title(\"Example 1: Histogram of Normal Distribution\")\n",
    "plt.xlabel(\"Value\")\n",
    "plt.ylabel(\"Frequency\")\n",
    "plt.show()\n"
   ]
  },
  {
   "cell_type": "markdown",
   "id": "c4300da7",
   "metadata": {},
   "source": [
    "**Explanation**\n",
    "- Imports NumPy (`np`) for numerical operations and Matplotlib (`plt`) for plotting.\n",
    "- Generates 1,000 random numbers from a normal distribution with mean 50 and standard deviation 10.\n",
    "- Calculates and prints the mean and standard deviation of the generated data.\n",
    "- Plots a histogram to visualize the distribution of the random data.\n",
    "- The histogram shows how the data is distributed around the mean, with most values clustering near 50.\n",
    "- Useful for understanding statistical properties and visualizing random data."
   ]
  },
  {
   "cell_type": "markdown",
   "id": "0251d87c",
   "metadata": {},
   "source": [
    "The code `np.random.normal(loc=50, scale=10, size=1000)` generates an array of 1,000 random numbers drawn from a normal Gaussian distribution. A normal (Gaussian) distribution is a continuous probability distribution that is symmetric around its mean, showing that data near the mean are more frequent in occurrence than data far from the mean. It is characterized by its bell-shaped curve, known as the \"Gaussian curve.\"\n",
    "\n",
    "Key properties:\n",
    "\n",
    "- The mean, median, and mode are all equal and located at the center of the distribution.\n",
    "- The curve is symmetric about the mean.\n",
    "- The spread of the distribution is determined by the standard deviation: a larger standard deviation means a wider curve.\n",
    "\n",
    "The normal function takes three main arguments:\n",
    "\n",
    "- `loc=50`: This sets the mean (center) of the distribution to 50.\n",
    "- `scale=10`: This sets the standard deviation (spread) of the distribution to 10.\n",
    "- `size=1000`: This specifies that 1,000 random samples should be generated.\n",
    "\n",
    "The result is a NumPy array where most values are clustered around 50, with the spread determined by the standard deviation. This function is commonly used for simulating data, statistical modeling, or visualizing distributions. A common 'gotcha' is forgetting that the standard deviation (scale) controls how tightly the values cluster around the mean—larger values produce a wider spread."
   ]
  },
  {
   "cell_type": "markdown",
   "id": "eca32554",
   "metadata": {},
   "source": [
    "## Example 2: Simulating Dice Rolls"
   ]
  },
  {
   "cell_type": "code",
   "execution_count": null,
   "id": "3f2f8659",
   "metadata": {},
   "outputs": [],
   "source": [
    "# Example 2: Dice roll simulation\n",
    "rolls = np.random.randint(1, 7, size=10000)\n",
    "counts = np.bincount(rolls)[1:]  # Skip index 0\n",
    "faces = np.arange(1, 7)\n",
    "\n",
    "print(\"Dice face counts:\", counts)\n",
    "\n",
    "# Plotting bar chart\n",
    "plt.bar(faces, counts)\n",
    "plt.title(\"Example 2: Dice Roll Frequencies\")\n",
    "plt.xlabel(\"Dice Face\")\n",
    "plt.ylabel(\"Count\")\n",
    "plt.show()\n"
   ]
  },
  {
   "cell_type": "markdown",
   "id": "62694f5c",
   "metadata": {},
   "source": [
    "**Explanation**\n",
    "- Simulates 10,000 dice rolls using NumPy's `randint` to generate random integers between 1 and 6.\n",
    "- Uses `np.bincount` to count occurrences of each dice face (skipping index 0).\n",
    "- Creates an array `faces` representing dice faces 1 through 6.\n",
    "- Prints the count of each dice face to show the distribution.\n",
    "- Plots a bar chart to visualize the frequency of each dice face.\n",
    "- Demonstrates how random sampling can be used to simulate real-world experiments and visualize results."
   ]
  },
  {
   "cell_type": "markdown",
   "id": "60634a59",
   "metadata": {},
   "source": [
    "The code `np.random.randint(1, 7, size=10000)` generates an array of 10,000 random integers using NumPy's randint function.\n",
    "\n",
    "The first argument, 1, is the inclusive lower bound, and the second argument, 7, is the exclusive upper bound. This means each integer in the output will be between 1 and 6, inclusive.\n",
    "\n",
    "The `size=10000` parameter specifies that the function should return an array containing 10,000 such random numbers.\n",
    "\n",
    "This function is commonly used to simulate random events with discrete outcomes, such as rolling a six-sided die. Each call to randint is independent, so the resulting array represents 10,000 independent rolls of a die. If you were to plot the results, you would expect to see roughly equal counts for each integer from 1 to 6, demonstrating the uniform distribution of outcomes.\n",
    "\n",
    "A potential 'gotcha' is remembering that the high parameter is exclusive—so 7 is never included in the output. This is a common source of off-by-one errors for those new to NumPy or Python's random functions."
   ]
  },
  {
   "cell_type": "markdown",
   "id": "011a17d8",
   "metadata": {},
   "source": [
    "## Example 3: 2D Grid of sin(x) + cos(y)"
   ]
  },
  {
   "cell_type": "code",
   "execution_count": null,
   "id": "753be0aa",
   "metadata": {},
   "outputs": [],
   "source": [
    "# Example 3: 2D function plot\n",
    "x = np.linspace(0, 2 * np.pi, 100)\n",
    "y = np.linspace(0, 2 * np.pi, 100)\n",
    "X, Y = np.meshgrid(x, y)\n",
    "Z = np.sin(X) + np.cos(Y)\n",
    "\n",
    "# Plotting contour\n",
    "contour = plt.contourf(X, Y, Z, levels=50, cmap='viridis')\n",
    "plt.colorbar(contour)\n",
    "plt.title(\"Example 3: sin(X) + cos(Y) Surface\")\n",
    "plt.xlabel(\"X\")\n",
    "plt.ylabel(\"Y\")\n",
    "plt.show()\n"
   ]
  },
  {
   "cell_type": "markdown",
   "id": "06e556dc",
   "metadata": {},
   "source": [
    "The line `plt.contourf(X, Y, Z, levels=50, cmap='viridis')` creates a filled contour plot using Matplotlib.\n",
    "\n",
    "In this context, X and Y are typically 2D arrays representing grid coordinates,\n",
    "\n",
    "while Z contains the corresponding values at each grid point.\n",
    "\n",
    "The function visualizes how Z varies across the grid by filling regions between contour lines with colors.\n",
    "\n",
    "The `levels=50` argument specifies that the plot should use 50 contour levels, resulting in a smoother gradient and more detailed visualization of the data.\n",
    "\n",
    "The `cmap='viridis'` parameter sets the color map to 'viridis', which is a perceptually uniform color map that transitions from dark purple to yellow, making it easier to distinguish different regions.\n",
    "\n",
    "This function is useful for visualizing 2D scalar fields, such as temperature or elevation data, and helps reveal patterns or gradients in the dataset.\n",
    "\n",
    "A common 'gotcha' is ensuring that X, Y, and Z have compatible shapes; otherwise, the function will raise an error.\n",
    "\n",
    "Additionally, choosing an appropriate number of levels and a suitable color map can greatly enhance the readability of the plot."
   ]
  },
  {
   "cell_type": "markdown",
   "id": "91b2e34d",
   "metadata": {},
   "source": [
    "## Example 4: Boolean Masking"
   ]
  },
  {
   "cell_type": "code",
   "execution_count": null,
   "id": "9d7763fb",
   "metadata": {},
   "outputs": [],
   "source": [
    "# Example 4: Filtering with boolean mask\n",
    "data = np.random.randint(1, 101, size=50)\n",
    "filtered = data[data > 70]\n",
    "\n",
    "print(\"Original:\", data)\n",
    "print(\"Filtered (values > 70):\", filtered)\n",
    "\n",
    "# Plotting histogram of filtered values\n",
    "plt.hist(filtered, bins=10, edgecolor='black', color='orange')\n",
    "plt.title(\"Example 4: Values > 70\")\n",
    "plt.xlabel(\"Value\")\n",
    "plt.ylabel(\"Count\")\n",
    "plt.show()\n"
   ]
  },
  {
   "cell_type": "markdown",
   "id": "4e48ffee",
   "metadata": {},
   "source": [
    "This line of code `filtered = data[data > 70]` uses NumPy’s powerful array filtering capabilities to select only the elements from the variable data that are greater than 70. Here, data is expected to be a NumPy array or a similar structure that supports element-wise comparison.\n",
    "\n",
    "The expression `data > 70` creates a Boolean array of the same shape as data, where each position is True if the corresponding element in data is greater than 70, and False otherwise. When you use this Boolean array to index data (i.e., `data[data > 70]`), NumPy returns a new array containing only the elements where the condition is True.\n",
    "\n",
    "This technique is called Boolean masking or filtering, and it’s a concise way to extract subsets of data that meet specific criteria. The result, stored in filtered, will be an array of all values from data that are strictly greater than 70. This approach is much more efficient and readable than looping through the array and manually checking each value."
   ]
  },
  {
   "cell_type": "markdown",
   "id": "5d6c6c6a",
   "metadata": {},
   "source": [
    "## Example 5: Matrix Multiplication"
   ]
  },
  {
   "cell_type": "code",
   "execution_count": null,
   "id": "5950028e",
   "metadata": {},
   "outputs": [],
   "source": [
    "# Example 5: Matrix multiplication\n",
    "A = np.random.rand(3, 2)\n",
    "B = np.random.rand(2, 4)\n",
    "C = np.dot(A, B)\n",
    "\n",
    "print(\"Matrix A:\\n\", A)\n",
    "print(\"Matrix B:\\n\", B)\n",
    "print(\"Product C:\\n\", C)\n",
    "\n",
    "# Plotting heatmap\n",
    "plt.imshow(C, cmap='plasma', aspect='auto')\n",
    "plt.colorbar()\n",
    "plt.title(\"Example 5: Matrix Multiplication Heatmap\")\n",
    "plt.xlabel(\"Columns in B\")\n",
    "plt.ylabel(\"Rows in A\")\n",
    "plt.show()\n"
   ]
  },
  {
   "cell_type": "markdown",
   "id": "a182acd9",
   "metadata": {},
   "source": [
    "The line `plt.imshow(C, cmap='plasma', aspect='auto')` uses Matplotlib's imshow function to display the contents of the variable C as an image. This is commonly used for visualizing 2D arrays, such as matrices or images, where each value in the array is mapped to a color.\n",
    "\n",
    "The `cmap='plasma'` argument specifies the colormap to use. The 'plasma' colormap is a perceptually uniform color map that transitions from dark purple to yellow, making it useful for highlighting differences in data values.\n",
    "\n",
    "The `aspect='auto'` argument tells Matplotlib to automatically adjust the aspect ratio of the image so that the axes fit the plot area. This means the image may be stretched or compressed to fill the available space, rather than preserving the original data aspect ratio.\n",
    "\n",
    "Overall, this line is a concise way to visualize matrix-like data, with color encoding the values and automatic scaling to fit the plot window.\n",
    "\n",
    "A common 'gotcha' is that the default origin is at the top-left, which can be changed with the origin parameter if needed."
   ]
  }
 ],
 "metadata": {
  "kernelspec": {
   "display_name": ".venv",
   "language": "python",
   "name": "python3"
  },
  "language_info": {
   "codemirror_mode": {
    "name": "ipython",
    "version": 3
   },
   "file_extension": ".py",
   "mimetype": "text/x-python",
   "name": "python",
   "nbconvert_exporter": "python",
   "pygments_lexer": "ipython3",
   "version": "3.12.10"
  }
 },
 "nbformat": 4,
 "nbformat_minor": 5
}
